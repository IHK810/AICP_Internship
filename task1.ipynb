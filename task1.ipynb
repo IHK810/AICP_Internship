{
 "cells": [
  {
   "cell_type": "markdown",
   "metadata": {},
   "source": [
    "# **TASK #1**"
   ]
  },
  {
   "cell_type": "code",
   "execution_count": 14,
   "metadata": {},
   "outputs": [],
   "source": [
    "import pandas as pd\n",
    "import numpy as np\n",
    "\n",
    "df = pd.read_csv('Computershop.csv')\n",
    "item_code = df['Item code'].values\n",
    "description = df['Description'].values\n",
    "price = df['Price'].values\n",
    "category = df['Category'].values"
   ]
  },
  {
   "cell_type": "code",
   "execution_count": 15,
   "metadata": {},
   "outputs": [
    {
     "name": "stdout",
     "output_type": "stream",
     "text": [
      "                  Category Item code            Description   Price\n",
      "0                     Case        A1                Compact   75.00\n",
      "1                     Case        A2                  Tower  150.00\n",
      "2                      RAM        B1                   8 GB   79.99\n",
      "3                      RAM        B2                  16 GB  149.99\n",
      "4                      RAM        B3                  32 GB  299.99\n",
      "5     Main Hard Disk Drive        C1               1 TB HDD   49.99\n",
      "6     Main Hard Disk Drive        C2               2 TB HDD   89.99\n",
      "7     Main Hard Disk Drive        C3               4 TB HDD  129.99\n",
      "8        Solid State Drive        D1             240 GB SSD   59.99\n",
      "9        Solid State Drive        D2             480 GB SSD  119.99\n",
      "10  Second Hard Disk Drive        E1               1 TB HDD   49.99\n",
      "11  Second Hard Disk Drive        E2               2 TB HDD   89.99\n",
      "12  Second Hard Disk Drive        E3               4 TB HDD  129.99\n",
      "13           Optical Drive        F1     DVD/Blu-Ray Player   50.00\n",
      "14           Optical Drive        F2  DVD/Blu-Ray Re-writer  100.00\n",
      "15        Operating System        G1       Standard Version  100.00\n",
      "16        Operating System        G2    ProfessionalVersion  175.00\n"
     ]
    }
   ],
   "source": [
    "print(df)\n",
    "selected_items = []\n",
    "\n",
    "def entry_check(entered_item, list):\n",
    "    status = False\n",
    "    while True:\n",
    "        for i in range (0, len(list)):\n",
    "            if entered_item == list[i]:\n",
    "                status = True\n",
    "                break\n",
    "        if status == True:\n",
    "            return entered_item\n",
    "        entered_item = input('You entered an invalid item code. Please Try again')\n",
    "\n",
    "#Selecting the CASE\n",
    "entered_item = input('\\n\\n\\nChoose the following from the table by entering the corresponding Item code\\n'\n",
    "    '1. Case 1x\\n2. RAM 1x\\n3. Main Hard Disk Drive 1x\\n\\n'\n",
    "    'Enter the item code of the CASE you want (A1 / A2): ')\n",
    "verified_item = entry_check(entered_item, item_code[0:2])\n",
    "selected_items.append(verified_item)\n",
    "\n",
    "#Selecting the RAM\n",
    "entered_item = input('Enter the item code of the RAM you want (B1 / B2 / B3): ')\n",
    "verified_item = entry_check(entered_item, item_code[2:5])\n",
    "selected_items.append(verified_item)\n",
    "\n",
    "#Selecting the HDD\n",
    "entered_item = input('Enter the item code of the Hard Disk Drive you want (C1 / C2 / C3): ')\n",
    "verified_item = entry_check(entered_item, item_code[5:8])\n",
    "selected_items.append(verified_item)\n",
    "\n",
    "selected_items = np.array(selected_items, dtype=object)\n"
   ]
  },
  {
   "cell_type": "code",
   "execution_count": 16,
   "metadata": {},
   "outputs": [
    {
     "data": {
      "text/plain": [
       "array(['A1', 'B2', 'C1'], dtype=object)"
      ]
     },
     "execution_count": 16,
     "metadata": {},
     "output_type": "execute_result"
    }
   ],
   "source": [
    "selected_items"
   ]
  },
  {
   "cell_type": "code",
   "execution_count": 22,
   "metadata": {},
   "outputs": [
    {
     "name": "stdout",
     "output_type": "stream",
     "text": [
      "\n",
      "\n",
      "\n",
      "You have purchased:\n",
      "\n",
      "1  Compact Case \n",
      "\n",
      "2  16 GB RAM \n",
      "\n",
      "3  1 TB HDD Main Hard Disk Drive \n",
      "\n",
      "Total Price:  274.98 \n",
      "\n",
      "Discount:  0 \n",
      "\n"
     ]
    }
   ],
   "source": [
    "total_price = 0\n",
    "discount = 0\n",
    "\n",
    "def fetch_index(selected_items, item_code):\n",
    "    index = []\n",
    "    for j in range (0,len(selected_items)):\n",
    "        for i in range (0, len(item_code)):\n",
    "            if selected_items[j] == item_code[i]:\n",
    "                index.append(i)\n",
    "    return(index)\n",
    "\n",
    "def price_cal(index, price, total_price):\n",
    "    for i in index:\n",
    "        total_price += price[i] \n",
    "    total_price = round(total_price, 2)\n",
    "    return total_price\n",
    "\n",
    "def identify_components(index, category, description):\n",
    "    components =[]\n",
    "    for i in index:\n",
    "        components.append(description[i] + ' ' + category[i])\n",
    "    return(components)\n",
    "\n",
    "def print_receipt(components, total_price, discount):\n",
    "    print('\\n\\n\\nYou have purchased:\\n')\n",
    "    for i in range(0,len(components)):\n",
    "        print(i+1,'',components[i], '\\n')\n",
    "    print('Total Price: ', total_price, '\\n')\n",
    "    print('Discount: ', discount, '\\n')\n",
    "\n",
    "index = fetch_index(selected_items, item_code)\n",
    "total_price = price_cal(index, price, total_price)\n",
    "components = identify_components(index, category, description)\n",
    "print_receipt(components, total_price, discount)\n",
    "\n"
   ]
  },
  {
   "cell_type": "markdown",
   "metadata": {},
   "source": [
    "# **TASK #2**"
   ]
  },
  {
   "cell_type": "code",
   "execution_count": 23,
   "metadata": {},
   "outputs": [
    {
     "name": "stdout",
     "output_type": "stream",
     "text": [
      "                  Category Item code            Description   Price\n",
      "0                     Case        A1                Compact   75.00\n",
      "1                     Case        A2                  Tower  150.00\n",
      "2                      RAM        B1                   8 GB   79.99\n",
      "3                      RAM        B2                  16 GB  149.99\n",
      "4                      RAM        B3                  32 GB  299.99\n",
      "5     Main Hard Disk Drive        C1               1 TB HDD   49.99\n",
      "6     Main Hard Disk Drive        C2               2 TB HDD   89.99\n",
      "7     Main Hard Disk Drive        C3               4 TB HDD  129.99\n",
      "8        Solid State Drive        D1             240 GB SSD   59.99\n",
      "9        Solid State Drive        D2             480 GB SSD  119.99\n",
      "10  Second Hard Disk Drive        E1               1 TB HDD   49.99\n",
      "11  Second Hard Disk Drive        E2               2 TB HDD   89.99\n",
      "12  Second Hard Disk Drive        E3               4 TB HDD  129.99\n",
      "13           Optical Drive        F1     DVD/Blu-Ray Player   50.00\n",
      "14           Optical Drive        F2  DVD/Blu-Ray Re-writer  100.00\n",
      "15        Operating System        G1       Standard Version  100.00\n",
      "16        Operating System        G2    ProfessionalVersion  175.00\n",
      "\n",
      "\n",
      "\n",
      "You have purchased:\n",
      "\n",
      "1  DVD/Blu-Ray Player Optical Drive \n",
      "\n",
      "2  ProfessionalVersion Operating System \n",
      "\n",
      "Total Price:  499.98 \n",
      "\n",
      "Discount:  0 \n",
      "\n"
     ]
    }
   ],
   "source": [
    "additional_items = []\n",
    "print(df)\n",
    "\n",
    "while True:\n",
    "     decision = input('Would you like to purchase more items? Y/N')\n",
    "     decision = entry_check(decision, ['Y', 'N'])\n",
    "     if decision == 'Y':\n",
    "          entered_item = input('\\n\\n\\nChoose an item from the table by entering the corresponding item code')\n",
    "          verified_item = entry_check(entered_item, item_code)\n",
    "          additional_items.append(verified_item)\n",
    "     else: break\n",
    "     \n",
    "\n",
    "additional_index = fetch_index(additional_items, item_code)\n",
    "total_price = price_cal(additional_index, price, total_price)\n",
    "additional_components = identify_components(additional_index, category, description)\n",
    "print_receipt(additional_components, total_price, discount)\n",
    "          \n",
    "          \n",
    "          "
   ]
  },
  {
   "cell_type": "markdown",
   "metadata": {},
   "source": [
    "# **TASK #3**"
   ]
  },
  {
   "cell_type": "code",
   "execution_count": 24,
   "metadata": {},
   "outputs": [
    {
     "name": "stdout",
     "output_type": "stream",
     "text": [
      "\n",
      "\n",
      "\n",
      "You have purchased:\n",
      "\n",
      "1  DVD/Blu-Ray Player Optical Drive \n",
      "\n",
      "2  ProfessionalVersion Operating System \n",
      "\n",
      "Total Price:  449.982 \n",
      "\n",
      "Discount:  49.998 \n",
      "\n"
     ]
    }
   ],
   "source": [
    "def discount_cal(additional_index, total_price):\n",
    "    discount = 0\n",
    "    if len(additional_index) > 1:\n",
    "        discount = total_price * 10 / 100\n",
    "    elif len(additional_index) == 1:\n",
    "        discount = total_price * 5 / 100\n",
    "    \n",
    "    discount = round(discount, 3)\n",
    "    total_price -= discount\n",
    "    return (total_price, discount)\n",
    "\n",
    "[total_price, discount] = discount_cal(additional_index, total_price)\n",
    "print_receipt(additional_components, total_price, discount)\n",
    "\n"
   ]
  }
 ],
 "metadata": {
  "kernelspec": {
   "display_name": "base",
   "language": "python",
   "name": "python3"
  },
  "language_info": {
   "codemirror_mode": {
    "name": "ipython",
    "version": 3
   },
   "file_extension": ".py",
   "mimetype": "text/x-python",
   "name": "python",
   "nbconvert_exporter": "python",
   "pygments_lexer": "ipython3",
   "version": "3.11.3"
  }
 },
 "nbformat": 4,
 "nbformat_minor": 2
}
