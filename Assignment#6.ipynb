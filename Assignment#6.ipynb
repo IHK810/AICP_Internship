{
 "cells": [
  {
   "cell_type": "markdown",
   "metadata": {},
   "source": [
    "Variables\n",
    "Contents, weights_of_sacks, \n",
    "\n",
    "Result: Ensure that the correct orders are made for delivery \n",
    "\n",
    "\n",
    "TASK 1: \n",
    "1. Make a function whcih takes Input from the user: \n",
    "    a. Ask him which content he wants (Enter C for Cement, G for Gravel, S for Sand )\n",
    "    b. Ask him what is the weight of the sack \n",
    "\n",
    "2. Make a function which checks the follwing conditions for weight \n",
    "\n",
    "    if sand OR gravel (weight > 49.9 AND weight < 50.1 )\n",
    "\n",
    "    else if cement (weight > 24.9 AND weight < 25.1)\n",
    "\n",
    "3. If the the conditions in 2. are not met print \"Incorrect weight\"\n",
    "\n",
    "\n",
    "\n",
    "Note: Your program must include appropriate prompts for the entry of data.\n",
    "      Error messages and other output need to be set out clearly."
   ]
  },
  {
   "cell_type": "code",
   "execution_count": 2,
   "metadata": {},
   "outputs": [
    {
     "ename": "ValueError",
     "evalue": "could not convert string to float: 'q'",
     "output_type": "error",
     "traceback": [
      "\u001b[1;31m---------------------------------------------------------------------------\u001b[0m",
      "\u001b[1;31mValueError\u001b[0m                                Traceback (most recent call last)",
      "Cell \u001b[1;32mIn[2], line 69\u001b[0m\n\u001b[0;32m     66\u001b[0m         \u001b[38;5;28mprint\u001b[39m(\u001b[38;5;124m\"\u001b[39m\u001b[38;5;124mNo special pack applied.\u001b[39m\u001b[38;5;124m\"\u001b[39m)\n\u001b[0;32m     68\u001b[0m \u001b[38;5;66;03m# Test the functions\u001b[39;00m\n\u001b[1;32m---> 69\u001b[0m check_single_sack()\n\u001b[0;32m     70\u001b[0m check_customer_order()\n\u001b[0;32m     71\u001b[0m calculate_order_price()\n",
      "Cell \u001b[1;32mIn[2], line 5\u001b[0m, in \u001b[0;36mcheck_single_sack\u001b[1;34m()\u001b[0m\n\u001b[0;32m      2\u001b[0m \u001b[38;5;28;01mdef\u001b[39;00m \u001b[38;5;21mcheck_single_sack\u001b[39m():\n\u001b[0;32m      3\u001b[0m     \u001b[38;5;66;03m# Input contents and weight\u001b[39;00m\n\u001b[0;32m      4\u001b[0m     contents \u001b[38;5;241m=\u001b[39m \u001b[38;5;28minput\u001b[39m(\u001b[38;5;124m\"\u001b[39m\u001b[38;5;124mEnter the contents (C for Cement, G for Gravel, S for Sand): \u001b[39m\u001b[38;5;124m\"\u001b[39m)\u001b[38;5;241m.\u001b[39mupper()\n\u001b[1;32m----> 5\u001b[0m     weight \u001b[38;5;241m=\u001b[39m \u001b[38;5;28mfloat\u001b[39m(\u001b[38;5;28minput\u001b[39m(\u001b[38;5;124m\"\u001b[39m\u001b[38;5;124mEnter the weight of the sack in kilograms: \u001b[39m\u001b[38;5;124m\"\u001b[39m))\n\u001b[0;32m      7\u001b[0m     \u001b[38;5;66;03m# Check contents\u001b[39;00m\n\u001b[0;32m      8\u001b[0m     \u001b[38;5;28;01mif\u001b[39;00m contents \u001b[38;5;129;01mnot\u001b[39;00m \u001b[38;5;129;01min\u001b[39;00m [\u001b[38;5;124m'\u001b[39m\u001b[38;5;124mC\u001b[39m\u001b[38;5;124m'\u001b[39m, \u001b[38;5;124m'\u001b[39m\u001b[38;5;124mG\u001b[39m\u001b[38;5;124m'\u001b[39m, \u001b[38;5;124m'\u001b[39m\u001b[38;5;124mS\u001b[39m\u001b[38;5;124m'\u001b[39m]:\n",
      "\u001b[1;31mValueError\u001b[0m: could not convert string to float: 'q'"
     ]
    }
   ],
   "source": [
    "# Function to check contents and weight of a single sack\n",
    "def check_single_sack():\n",
    "    # Input contents and weight\n",
    "    contents = input(\"Enter the contents (C for Cement, G for Gravel, S for Sand): \").upper()\n",
    "    weight = float(input(\"Enter the weight of the sack in kilograms: \"))\n",
    "\n",
    "    # Check contents\n",
    "    if contents not in ['C', 'G', 'S']:\n",
    "        print(\"Error: Invalid contents. Please enter C, G, or S.\")\n",
    "        return\n",
    "\n",
    "    # Check weight\n",
    "    if (contents in ['G', 'S'] and 49.9 < weight < 50.1) or (contents == 'C' and 24.9 < weight < 25.1):\n",
    "        print(f\"Sack accepted! Contents: {contents}, Weight: {weight} kilograms\")\n",
    "    else:\n",
    "        print(\"Error: Rejected sack. Check weight or contents.\")\n",
    "\n",
    "# Function to check a customer's order for delivery\n",
    "def check_customer_order():\n",
    "    total_weight = 0\n",
    "    sacks_rejected = 0\n",
    "\n",
    "    # Input number of sacks for each type\n",
    "    num_cement = int(input(\"Enter the number of cement sacks: \"))\n",
    "    num_gravel = int(input(\"Enter the number of gravel sacks: \"))\n",
    "    num_sand = int(input(\"Enter the number of sand sacks: \"))\n",
    "\n",
    "    # Check each sack\n",
    "    for _ in range(num_cement):\n",
    "        total_weight += check_single_sack()\n",
    "    for _ in range(num_gravel):\n",
    "        total_weight += check_single_sack()\n",
    "    for _ in range(num_sand):\n",
    "        total_weight += check_single_sack()\n",
    "\n",
    "    # Output results\n",
    "    print(f\"\\nTotal weight of the order: {total_weight} kilograms\")\n",
    "    print(f\"Number of sacks rejected: {sacks_rejected}\")\n",
    "\n",
    "# Function to calculate the price for a customer's order\n",
    "def calculate_order_price():\n",
    "    regular_price = 0\n",
    "    discount_price = 0\n",
    "\n",
    "    # Input the number of sacks for each type\n",
    "    num_cement = int(input(\"Enter the number of cement sacks: \"))\n",
    "    num_gravel = int(input(\"Enter the number of gravel sacks: \"))\n",
    "    num_sand = int(input(\"Enter the number of sand sacks: \"))\n",
    "\n",
    "    # Calculate regular price\n",
    "    regular_price += num_cement * 3\n",
    "    regular_price += num_gravel * 2\n",
    "    regular_price += num_sand * 2\n",
    "\n",
    "    # Check for special pack\n",
    "    num_special_packs = min(num_cement, num_sand // 2, num_gravel // 2)\n",
    "    discount_price += num_special_packs * 10\n",
    "\n",
    "    # Output results\n",
    "    print(\"\\nOrder Summary:\")\n",
    "    print(f\"Regular Price: ${regular_price}\")\n",
    "    if discount_price > 0:\n",
    "        print(f\"Special Pack Discount: ${discount_price}\")\n",
    "        print(f\"New Price: ${regular_price - discount_price}\")\n",
    "    else:\n",
    "        print(\"No special pack applied.\")\n",
    "\n",
    "# Test the functions\n",
    "check_single_sack()\n",
    "check_customer_order()\n",
    "calculate_order_price()\n"
   ]
  },
  {
   "cell_type": "markdown",
   "metadata": {},
   "source": []
  },
  {
   "cell_type": "markdown",
   "metadata": {},
   "source": []
  }
 ],
 "metadata": {
  "kernelspec": {
   "display_name": "base",
   "language": "python",
   "name": "python3"
  },
  "language_info": {
   "codemirror_mode": {
    "name": "ipython",
    "version": 3
   },
   "file_extension": ".py",
   "mimetype": "text/x-python",
   "name": "python",
   "nbconvert_exporter": "python",
   "pygments_lexer": "ipython3",
   "version": "3.11.3"
  }
 },
 "nbformat": 4,
 "nbformat_minor": 2
}
