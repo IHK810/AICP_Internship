{
 "cells": [
  {
   "cell_type": "code",
   "execution_count": 1,
   "metadata": {},
   "outputs": [],
   "source": [
    "import math\n",
    "\n",
    "class Hexagon:\n",
    "    def __init__(self, cnic_last_digit):\n",
    "        self.side_length = cnic_last_digit\n",
    "        self.angle_measurement = 120\n",
    "\n",
    "    def calculate_area(self):\n",
    "        area  = 1.5 * 1.732 * self.side_length\n",
    "        return area\n",
    "\n",
    "    def calculate_perimeter(self):\n",
    "        peri = 6 * self.side_length\n",
    "        return peri\n",
    "\n",
    "    def calculate_sum_of_angles(self):\n",
    "        sum_angles =  6 * self.angle_measurement\n",
    "        return sum_angles\n",
    "\n",
    "    def display():\n",
    "        print('The area of the square: ', Hexagon.area)\n",
    "        \n",
    "class Square:\n",
    "    def __init__(self, cnic_last_digit):\n",
    "        self.side_length = cnic_last_digit + 1\n",
    "\n",
    "    def calculate_area(self):\n",
    "        return self.side_length ** 2\n",
    "\n",
    "    def calculate_perimeter(self):\n",
    "        return 4 * self.side_length\n",
    "\n"
   ]
  },
  {
   "cell_type": "code",
   "execution_count": 5,
   "metadata": {},
   "outputs": [
    {
     "name": "stdout",
     "output_type": "stream",
     "text": [
      "\n",
      "Menu:\n",
      "1. Hexagon\n",
      "2. Square\n",
      "Any other input to exit\n",
      "\n",
      "Hexagon:\n",
      "Area: 7.794\n",
      "Perimeter: 18\n",
      "Sum of angles: 720\n",
      "\n",
      "Menu:\n",
      "1. Hexagon\n",
      "2. Square\n",
      "Any other input to exit\n",
      "Exiting program.\n"
     ]
    }
   ],
   "source": [
    "def main():\n",
    "    cnic = input(\"Enter your CNIC: \")\n",
    "    cnic_last_digit = int(cnic[-1])\n",
    "\n",
    "    hexagon = Hexagon(cnic_last_digit)\n",
    "    square = Square(cnic_last_digit)\n",
    "\n",
    "    while True:\n",
    "        print(\"\\nMenu:\")\n",
    "        print(\"1. Hexagon\")\n",
    "        print(\"2. Square\")\n",
    "        print(\"Any other input to exit\")\n",
    "\n",
    "        choice = input(\"Enter your choice: \")\n",
    "\n",
    "        if choice == '1':\n",
    "            print(\"\\nHexagon:\")\n",
    "            print(\"Area:\", hexagon.calculate_area())\n",
    "            print(\"Perimeter:\", hexagon.calculate_perimeter())\n",
    "            print(\"Sum of angles:\", hexagon.calculate_sum_of_angles())\n",
    "        elif choice == '2':\n",
    "            print(\"\\nSquare:\")\n",
    "            print(\"Area:\", square.calculate_area())\n",
    "            print(\"Perimeter:\", square.calculate_perimeter())\n",
    "        else:\n",
    "            print(\"Exiting program.\")\n",
    "            break\n",
    "\n",
    "if __name__ == \"__main__\":\n",
    "    main()\n"
   ]
  }
 ],
 "metadata": {
  "kernelspec": {
   "display_name": "Python 3",
   "language": "python",
   "name": "python3"
  },
  "language_info": {
   "codemirror_mode": {
    "name": "ipython",
    "version": 3
   },
   "file_extension": ".py",
   "mimetype": "text/x-python",
   "name": "python",
   "nbconvert_exporter": "python",
   "pygments_lexer": "ipython3",
   "version": "3.11.3"
  }
 },
 "nbformat": 4,
 "nbformat_minor": 2
}
