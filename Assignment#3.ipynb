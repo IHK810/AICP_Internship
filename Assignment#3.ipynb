{
 "cells": [
  {
   "cell_type": "code",
   "execution_count": 3,
   "metadata": {},
   "outputs": [
    {
     "name": "stdout",
     "output_type": "stream",
     "text": [
      "My Student ID is  332569\n",
      "Enter your choice :\n",
      "1. Display bill for Slab 1 and Slab 2\n",
      "2. Display bill for Slab 3\n",
      "Any other key to exit\n",
      "Cost for Slab 1: Rs.1250\n",
      "Cost for Slab 2: Rs.4125\n",
      "My Student ID is  332569\n",
      "Enter your choice :\n",
      "1. Display bill for Slab 1 and Slab 2\n",
      "2. Display bill for Slab 3\n",
      "Any other key to exit\n",
      "Cost for Slab 3: Rs.6000\n",
      "My Student ID is  332569\n",
      "Enter your choice :\n",
      "1. Display bill for Slab 1 and Slab 2\n",
      "2. Display bill for Slab 3\n",
      "Any other key to exit\n",
      "Exiting...\n"
     ]
    }
   ],
   "source": [
    "def costSlab1(units):\n",
    "    rate = 10\n",
    "    total_cost = units * rate\n",
    "    print(f\"Cost for Slab 1: Rs.{total_cost}\")\n",
    "\n",
    "def costSlab2(units):\n",
    "    rate = 15\n",
    "    total_cost = units * rate\n",
    "    print(f\"Cost for Slab 2: Rs.{total_cost}\")\n",
    "\n",
    "def costSlab3(units):\n",
    "    rate = 20\n",
    "    total_cost = units * rate\n",
    "    print(f\"Cost for Slab 3: Rs.{total_cost}\")\n",
    "\n",
    "def main():\n",
    "    # Assuming a matrix representing units consumed for each student\n",
    "    student_id = input(\"Enter student's ID: \")\n",
    "    matrix = [\n",
    "        [50, 150, 250],\n",
    "        [75, 125, 175],\n",
    "        [100, 200, 300]\n",
    "    ]\n",
    "\n",
    "    while True:\n",
    "        print(\"My Student ID is \", student_id)\n",
    "        print(\"Enter your choice :\")\n",
    "        print(\"1. Display bill for Slab 1 and Slab 2\")\n",
    "        print(\"2. Display bill for Slab 3\")\n",
    "        print(\"Any other key to exit\")\n",
    "\n",
    "        choice = input(\"Enter your choice: \")\n",
    "\n",
    "        if choice == '1':\n",
    "            costSlab1(matrix[0][0] + matrix[1][0])\n",
    "            costSlab2(matrix[0][1] + matrix[1][1])\n",
    "        elif choice == '2':\n",
    "            costSlab3(matrix[2][2])\n",
    "        else:\n",
    "            print(\"Exiting...\")\n",
    "            break\n",
    "\n",
    "main()\n"
   ]
  }
 ],
 "metadata": {
  "kernelspec": {
   "display_name": "base",
   "language": "python",
   "name": "python3"
  },
  "language_info": {
   "codemirror_mode": {
    "name": "ipython",
    "version": 3
   },
   "file_extension": ".py",
   "mimetype": "text/x-python",
   "name": "python",
   "nbconvert_exporter": "python",
   "pygments_lexer": "ipython3",
   "version": "3.11.3"
  }
 },
 "nbformat": 4,
 "nbformat_minor": 2
}
