{
 "cells": [
  {
   "cell_type": "code",
   "execution_count": 23,
   "metadata": {},
   "outputs": [
    {
     "name": "stdout",
     "output_type": "stream",
     "text": [
      "0 | 1 | 2\n",
      "--|---|---\n",
      "3 | 4 | 5\n",
      "--|---|---\n",
      "6 | 7 | 8\n"
     ]
    }
   ],
   "source": [
    "xstate = [0,0,0,0,0,0,0,0,0]\n",
    "zstate = [0,0,0,0,0,0,0,0,0]\n",
    "\n",
    "def sum (a,b,c):\n",
    "    return a + b + c\n",
    "\n",
    "def printboard(xstate, zstate):\n",
    "    zero = 'X' if xstate[0] else ('O' if zstate[0] else 0)\n",
    "    one ='X' if xstate[1] else ('O' if zstate[1] else 1) \n",
    "    two ='X' if xstate[2] else ('O' if zstate[2] else 2)\n",
    "    three = 'X' if xstate[3] else ('O' if zstate[3] else 3)\n",
    "    four = 'X' if xstate[4] else ('O' if zstate[4] else 4)\n",
    "    five ='X' if xstate[5] else ('O' if zstate[5] else 5)\n",
    "    six = 'X' if xstate[6] else ('O' if zstate[6] else 6)\n",
    "    seven = 'X' if xstate[7] else ('O' if zstate[7] else 7)\n",
    "    eight ='X' if xstate[8] else ('O' if zstate[8] else 8)\n",
    "\n",
    "    print(f\"{zero} | {one} | {two}\")\n",
    "    print(f\"--|---|---\")\n",
    "    print(f\"{three} | {four} | {five}\")\n",
    "    print(f\"--|---|---\")\n",
    "    print(f\"{six} | {seven} | {eight}\")\n",
    "    \n",
    "\n",
    "printboard(xstate, zstate)\n",
    "    "
   ]
  },
  {
   "cell_type": "code",
   "execution_count": 25,
   "metadata": {},
   "outputs": [],
   "source": [
    "def checkWin(xstate, zstate):\n",
    "    wins = [[0, 1, 2], [3, 4, 5], [6, 7, 8], [2, 5, 8], [1, 4, 7], [0, 3, 6], [0, 4, 8], [2, 4, 6]]\n",
    "#3 12 21 15 12 9 12 12\n",
    "    for win in wins:\n",
    "        if (sum(xstate[win[0]], xstate[win[1]], xstate[win[2]]) == 3):\n",
    "            print('X won the Match')\n",
    "            return 1\n",
    "        if (sum(zstate[win[0]], zstate[win[1]], zstate[win[2]]) == 3):\n",
    "            print('O won the Match')\n",
    "            return 0\n",
    "    return -1\n",
    "        \n"
   ]
  },
  {
   "cell_type": "markdown",
   "metadata": {},
   "source": [
    "# **MAIN**"
   ]
  },
  {
   "cell_type": "code",
   "execution_count": 27,
   "metadata": {},
   "outputs": [
    {
     "name": "stdout",
     "output_type": "stream",
     "text": [
      "Welcoe to the show of TIC TAC TOE\n",
      "0 | 1 | 2\n",
      "--|---|---\n",
      "3 | 4 | 5\n",
      "--|---|---\n",
      "6 | 7 | 8\n",
      "X's Chance\n",
      "X | 1 | 2\n",
      "--|---|---\n",
      "3 | 4 | 5\n",
      "--|---|---\n",
      "6 | 7 | 8\n",
      "O's Chance\n",
      "X | 1 | 2\n",
      "--|---|---\n",
      "O | 4 | 5\n",
      "--|---|---\n",
      "6 | 7 | 8\n",
      "X's Chance\n",
      "X | 1 | 2\n",
      "--|---|---\n",
      "O | X | 5\n",
      "--|---|---\n",
      "6 | 7 | 8\n",
      "O's Chance\n",
      "X | 1 | 2\n",
      "--|---|---\n",
      "O | X | 5\n",
      "--|---|---\n",
      "6 | 7 | O\n",
      "X's Chance\n",
      "X | 1 | 2\n",
      "--|---|---\n",
      "O | X | 5\n",
      "--|---|---\n",
      "6 | X | O\n",
      "O's Chance\n",
      "X | O | 2\n",
      "--|---|---\n",
      "O | X | 5\n",
      "--|---|---\n",
      "6 | X | O\n",
      "X's Chance\n",
      "X | O | X\n",
      "--|---|---\n",
      "O | X | 5\n",
      "--|---|---\n",
      "6 | X | O\n",
      "O's Chance\n",
      "X | O | X\n",
      "--|---|---\n",
      "O | X | O\n",
      "--|---|---\n",
      "6 | X | O\n",
      "X's Chance\n",
      "X won the Match\n",
      "X | O | X\n",
      "--|---|---\n",
      "O | X | O\n",
      "--|---|---\n",
      "X | X | O\n"
     ]
    }
   ],
   "source": [
    "xstate = [0,0,0,0,0,0,0,0,0]\n",
    "zstate = [0,0,0,0,0,0,0,0,0]\n",
    "\n",
    "turn  =  1 # 1 for X and 0 for O\n",
    "print('Welcoe to the show of TIC TAC TOE')\n",
    "\n",
    "printboard(xstate, zstate)\n",
    "while (True):\n",
    "    \n",
    "    if turn == 1:\n",
    "        print(\"X's Chance\")\n",
    "        value =  int(input('Please enter a value'))\n",
    "        xstate[value] = 1\n",
    "    else:\n",
    "        print(\"O's Chance\")\n",
    "        value =  int(input('Please enter a value'))\n",
    "        zstate[value] = 1\n",
    "\n",
    "    cwin = checkWin(xstate, zstate)\n",
    "    printboard(xstate, zstate)\n",
    "    if cwin != -1:\n",
    "        break\n",
    "\n",
    "    turn = 1 - turn "
   ]
  },
  {
   "cell_type": "markdown",
   "metadata": {},
   "source": [
    "*Rough Work*\n",
    "\n",
    "| O |   | X |\n",
    "|   | O | X |\n",
    "| X |   | O |\n",
    "\n",
    "3 options \n",
    "1. ---\n",
    "2. O\n",
    "3. X\n",
    "\n",
    "O O O   0 1 2\n",
    "\n",
    "O\n",
    "  O\n",
    "    O"
   ]
  }
 ],
 "metadata": {
  "kernelspec": {
   "display_name": "base",
   "language": "python",
   "name": "python3"
  },
  "language_info": {
   "codemirror_mode": {
    "name": "ipython",
    "version": 3
   },
   "file_extension": ".py",
   "mimetype": "text/x-python",
   "name": "python",
   "nbconvert_exporter": "python",
   "pygments_lexer": "ipython3",
   "version": "3.11.3"
  }
 },
 "nbformat": 4,
 "nbformat_minor": 2
}
